{
 "cells": [
  {
   "cell_type": "markdown",
   "metadata": {},
   "source": [
    "Inspeired from https://scipy-lectures.org/intro/scipy/auto_examples/plot_odeint_damped_spring_mass.html and http://www.eg.bucknell.edu/physics/ph310/jupyter/ode_numerical.ipynb.pdf"
   ]
  },
  {
   "cell_type": "code",
   "execution_count": 5,
   "metadata": {},
   "outputs": [
    {
     "name": "stdout",
     "output_type": "stream",
     "text": [
      "--2019-06-24 10:51:57--  http://www.eg.bucknell.edu/physics/ph310/jupyter/ode_numerical.ipynb\n",
      "wget: /Users/mbussonnier/.netrc:7: unknown token \"method\"\n",
      "wget: /Users/mbussonnier/.netrc:7: unknown token \"interactive\"\n",
      "Resolving www.eg.bucknell.edu (www.eg.bucknell.edu)... 134.82.9.180\n",
      "Connecting to www.eg.bucknell.edu (www.eg.bucknell.edu)|134.82.9.180|:80... connected.\n",
      "HTTP request sent, awaiting response... 200 OK\n",
      "Length: 136368 (133K) [text/plain]\n",
      "Saving to: ‘ode_numerical.ipynb’\n",
      "\n",
      "ode_numerical.ipynb 100%[===================>] 133.17K   450KB/s    in 0.3s    \n",
      "\n",
      "2019-06-24 10:51:58 (450 KB/s) - ‘ode_numerical.ipynb’ saved [136368/136368]\n",
      "\n"
     ]
    }
   ],
   "source": [
    "!wget http://www.eg.bucknell.edu/physics/ph310/jupyter/ode_numerical.ipynb"
   ]
  },
  {
   "cell_type": "code",
   "execution_count": 2,
   "metadata": {},
   "outputs": [],
   "source": [
    "%matplotlib inline"
   ]
  },
  {
   "cell_type": "code",
   "execution_count": 4,
   "metadata": {},
   "outputs": [
    {
     "data": {
      "application/vnd.jupyter.widget-view+json": {
       "model_id": "05699d3bb50e43a1a8cad5c2ec70c20f",
       "version_major": 2,
       "version_minor": 0
      },
      "text/plain": [
       "interactive(children=(Output(),), _dom_classes=('widget-interact',))"
      ]
     },
     "metadata": {},
     "output_type": "display_data"
    }
   ],
   "source": [
    "import numpy as np\n",
    "from scipy.integrate import odeint\n",
    "from matplotlib import pyplot as plt\n",
    "\n",
    "\n",
    "\n",
    "def calc_deri(yvec, time, eps, omega):\n",
    "    return (yvec[1], -eps * omega * yvec[1] - omega **2 * yvec[0])\n",
    "\n",
    "time_vec = np.linspace(0, 10, 100)\n",
    "yinit = (1, 0)\n",
    "\n",
    "\n",
    "\n",
    "from ipywidgets import interact\n",
    "\n",
    "@interact\n",
    "def plot():\n",
    "    mass = 0.5  # kg\n",
    "    kspring = 4  # N/m\n",
    "    cviscous = 0.4  # N s/m\n",
    "\n",
    "\n",
    "    eps = cviscous / (2 * mass * np.sqrt(kspring/mass))\n",
    "    omega = np.sqrt(kspring / mass)\n",
    "    yarr = odeint(calc_deri, yinit, time_vec, args=(eps, omega))\n",
    "    fig, ax = plt.subplots()\n",
    "\n",
    "    ax.plot(time_vec, yarr[:, 0], label='y')\n",
    "    ax.plot(time_vec, yarr[:, 1], label=\"y'\")\n",
    "    ax.legend(loc='best')"
   ]
  },
  {
   "cell_type": "code",
   "execution_count": null,
   "metadata": {},
   "outputs": [],
   "source": []
  }
 ],
 "metadata": {
  "kernelspec": {
   "display_name": "Python 3",
   "language": "python",
   "name": "python3"
  },
  "language_info": {
   "codemirror_mode": {
    "name": "ipython",
    "version": 3
   },
   "file_extension": ".py",
   "mimetype": "text/x-python",
   "name": "python",
   "nbconvert_exporter": "python",
   "pygments_lexer": "ipython3",
   "version": "3.7.1"
  }
 },
 "nbformat": 4,
 "nbformat_minor": 2
}
